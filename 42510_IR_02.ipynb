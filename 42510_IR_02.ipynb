{
  "nbformat": 4,
  "nbformat_minor": 0,
  "metadata": {
    "colab": {
      "provenance": []
    },
    "kernelspec": {
      "name": "python3",
      "display_name": "Python 3"
    },
    "language_info": {
      "name": "python"
    }
  },
  "cells": [
    {
      "cell_type": "markdown",
      "source": [
        "# Assignment : 02\n",
        "\n",
        "## Aim:  Implement a program for retrieval of documents using inverted files."
      ],
      "metadata": {
        "id": "BDpRq3UMWnnS"
      }
    },
    {
      "cell_type": "code",
      "execution_count": null,
      "metadata": {
        "colab": {
          "base_uri": "https://localhost:8080/"
        },
        "id": "Sc_DU1hxWTOx",
        "outputId": "375e90b1-1354-423c-f773-624d2b582d9f"
      },
      "outputs": [
        {
          "output_type": "stream",
          "name": "stdout",
          "text": [
            "Documents containing 'cat': {1, 2}\n",
            "Documents containing 'the': {1, 4}\n",
            "Documents containing 'cat dog': set()\n"
          ]
        }
      ],
      "source": [
        "class InvertedIndex:\n",
        "    def __init__(self):\n",
        "        self.index = {}\n",
        "        self.documents = {}\n",
        "\n",
        "    def add_document(self, doc_id, text):\n",
        "        # Store the document\n",
        "        self.documents[doc_id] = text\n",
        "        # Tokenize the text\n",
        "        terms = text.lower().split()\n",
        "        for term in terms:\n",
        "            if term not in self.index:\n",
        "                self.index[term] = set()\n",
        "            self.index[term].add(doc_id)\n",
        "\n",
        "    def search(self, query):\n",
        "        # Tokenize the query\n",
        "        query_terms = query.lower().split()\n",
        "        # Retrieve document IDs for each term in the query\n",
        "        result_sets = []\n",
        "        for term in query_terms:\n",
        "            if term in self.index:\n",
        "                result_sets.append(self.index[term])\n",
        "            else:\n",
        "                result_sets.append(set())\n",
        "\n",
        "        # Get the intersection of all result sets\n",
        "        if result_sets:\n",
        "            result_docs = set.intersection(*result_sets) if len(result_sets) > 1 else result_sets[0]\n",
        "        else:\n",
        "            result_docs = set()\n",
        "\n",
        "        return result_docs\n",
        "\n",
        "# Example usage\n",
        "if __name__ == \"__main__\":\n",
        "    # Create an inverted index instance\n",
        "    inverted_index = InvertedIndex()\n",
        "\n",
        "    # Add some documents\n",
        "    inverted_index.add_document(1, \"The cat in the hat.\")\n",
        "    inverted_index.add_document(2, \"A cat is a fine pet.\")\n",
        "    inverted_index.add_document(3, \"Dogs are also great pets.\")\n",
        "    inverted_index.add_document(4, \"The dog in the fog.\")\n",
        "\n",
        "    # Search for documents containing specific terms\n",
        "    query1 = \"cat\"\n",
        "    print(f\"Documents containing '{query1}':\", inverted_index.search(query1))\n",
        "\n",
        "    query2 = \"the\"\n",
        "    print(f\"Documents containing '{query2}':\", inverted_index.search(query2))\n",
        "\n",
        "    query3 = \"cat dog\"\n",
        "    print(f\"Documents containing '{query3}':\", inverted_index.search(query3))\n"
      ]
    },
    {
      "cell_type": "markdown",
      "source": [
        "\n",
        "\n",
        "1.   **InvertedIndex Class:**\n",
        "\n",
        "The class has two dictionaries: index to store the inverted index and documents to keep track of the documents.\n",
        "The add_document method tokenizes the text of each document and updates the inverted index.\n",
        "The search method allows querying for terms and retrieves the corresponding document IDs.\n",
        "Adding Documents:\n",
        "\n",
        "\n",
        "2.   **Adding Documents:**\n",
        "\n",
        "\n",
        "\n",
        "Documents are added with a unique ID and their text content.\n",
        "\n",
        "3.   **Searching:**\n",
        "\n",
        "\n",
        "\n",
        "The search method takes a query, splits it into terms, and retrieves the document IDs that contain all the specified terms.\n",
        "\n"
      ],
      "metadata": {
        "id": "aA8cQlZEW8vx"
      }
    },
    {
      "cell_type": "code",
      "source": [],
      "metadata": {
        "id": "5U8JFq2bWwEM"
      },
      "execution_count": null,
      "outputs": []
    }
  ]
}